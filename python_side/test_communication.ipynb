{
 "cells": [
  {
   "cell_type": "code",
   "execution_count": 48,
   "id": "0622ccb7-bf6b-4997-a226-2075972582dc",
   "metadata": {},
   "outputs": [],
   "source": [
    "# this is a sample notebook for controlling a mirror motor\n",
    "from sipyco.pc_rpc import Client"
   ]
  },
  {
   "cell_type": "code",
   "execution_count": 63,
   "id": "7465356f-d45b-4feb-ae79-5c8f904a6120",
   "metadata": {},
   "outputs": [],
   "source": [
    "ip = '192.168.5.231' # IP for reliance1 (what the server is bound to)\n",
    "port = 3490 # port the aqctl simple_server_loop is hosted at with the -p argument (`netstat -ano` to find used ports i think)\n",
    "\n",
    "mirror_motor = Client(ip, port)"
   ]
  },
  {
   "cell_type": "code",
   "execution_count": 50,
   "id": "5eb2a34a-bce4-4c65-898d-b94dcba1202d",
   "metadata": {},
   "outputs": [],
   "source": [
    "mirror_motor.write_char('a')"
   ]
  },
  {
   "cell_type": "code",
   "execution_count": 65,
   "id": "5e8980df-efe5-4c2b-a337-0be41c520d3b",
   "metadata": {},
   "outputs": [
    {
     "ename": "SyntaxError",
     "evalue": "invalid syntax (<string>, line 0)",
     "output_type": "error",
     "traceback": [
      "Traceback \u001b[0;36m(most recent call last)\u001b[0m:\n",
      "\u001b[0m  File \u001b[1;32m~/anaconda3/envs/mirror_motors/lib/python3.12/site-packages/IPython/core/interactiveshell.py:3553\u001b[0m in \u001b[1;35mrun_code\u001b[0m\n    exec(code_obj, self.user_global_ns, self.user_ns)\u001b[0m\n",
      "\u001b[0m  Cell \u001b[1;32mIn[65], line 1\u001b[0m\n    mirror_motor.stop()\u001b[0m\n",
      "\u001b[0m  File \u001b[1;32m~/Documents/phineas/sipyco/sipyco/pc_rpc.py:187\u001b[0m in \u001b[1;35mproxy\u001b[0m\n    return self.__do_rpc(name, args, kwargs)\u001b[0m\n",
      "\u001b[0m  File \u001b[1;32m~/Documents/phineas/sipyco/sipyco/pc_rpc.py:176\u001b[0m in \u001b[1;35m__do_rpc\u001b[0m\n    return self.__do_action(obj)\u001b[0m\n",
      "\u001b[0m  File \u001b[1;32m~/Documents/phineas/sipyco/sipyco/pc_rpc.py:166\u001b[0m in \u001b[1;35m__do_action\u001b[0m\n    obj = self.__recv()\u001b[0m\n",
      "\u001b[0m  File \u001b[1;32m~/Documents/phineas/sipyco/sipyco/pc_rpc.py:161\u001b[0m in \u001b[1;35m__recv\u001b[0m\n    return pyon.decode(line)\u001b[0m\n",
      "\u001b[0;36m  File \u001b[0;32m~/Documents/phineas/sipyco/sipyco/pyon.py:218\u001b[0;36m in \u001b[0;35mdecode\u001b[0;36m\n\u001b[0;31m    return eval(s, _eval_dict, {})\u001b[0;36m\n",
      "\u001b[0;36m  File \u001b[0;32m<string>\u001b[0;36m\u001b[0m\n\u001b[0;31m    \u001b[0m\n\u001b[0m    ^\u001b[0m\n\u001b[0;31mSyntaxError\u001b[0m\u001b[0;31m:\u001b[0m invalid syntax\n"
     ]
    }
   ],
   "source": [
    "mirror_motor.stop()"
   ]
  },
  {
   "cell_type": "code",
   "execution_count": 52,
   "id": "c8eb02b0-4247-449b-89de-d2a578445095",
   "metadata": {},
   "outputs": [
    {
     "ename": "AttributeError",
     "evalue": "",
     "output_type": "error",
     "traceback": [
      "\u001b[0;31m---------------------------------------------------------------------------\u001b[0m",
      "\u001b[0;31mAttributeError\u001b[0m                            Traceback (most recent call last)",
      "Cell \u001b[0;32mIn[52], line 1\u001b[0m\n\u001b[0;32m----> 1\u001b[0m mirror_motor\u001b[38;5;241m.\u001b[39mx\u001b[38;5;241m.\u001b[39mforward(\u001b[38;5;241m1\u001b[39m)\n",
      "File \u001b[0;32m~/Documents/phineas/sipyco/sipyco/pc_rpc.py:184\u001b[0m, in \u001b[0;36mClient.__getattr__\u001b[0;34m(self, name)\u001b[0m\n\u001b[1;32m    182\u001b[0m \u001b[38;5;28;01mdef\u001b[39;00m \u001b[38;5;21m__getattr__\u001b[39m(\u001b[38;5;28mself\u001b[39m, name):\n\u001b[1;32m    183\u001b[0m     \u001b[38;5;28;01mif\u001b[39;00m name \u001b[38;5;129;01mnot\u001b[39;00m \u001b[38;5;129;01min\u001b[39;00m \u001b[38;5;28mself\u001b[39m\u001b[38;5;241m.\u001b[39m__valid_methods:\n\u001b[0;32m--> 184\u001b[0m         \u001b[38;5;28;01mraise\u001b[39;00m \u001b[38;5;167;01mAttributeError\u001b[39;00m\n\u001b[1;32m    186\u001b[0m     \u001b[38;5;28;01mdef\u001b[39;00m \u001b[38;5;21mproxy\u001b[39m(\u001b[38;5;241m*\u001b[39margs, \u001b[38;5;241m*\u001b[39m\u001b[38;5;241m*\u001b[39mkwargs):\n\u001b[1;32m    187\u001b[0m         \u001b[38;5;28;01mreturn\u001b[39;00m \u001b[38;5;28mself\u001b[39m\u001b[38;5;241m.\u001b[39m__do_rpc(name, args, kwargs)\n",
      "\u001b[0;31mAttributeError\u001b[0m: "
     ]
    }
   ],
   "source": [
    "mirror_motor.x.forward(1)"
   ]
  },
  {
   "cell_type": "code",
   "execution_count": 53,
   "id": "eb0ec11d-7032-4bb9-9d00-7d6b3f56bca6",
   "metadata": {},
   "outputs": [
    {
     "ename": "AttributeError",
     "evalue": "",
     "output_type": "error",
     "traceback": [
      "\u001b[0;31m---------------------------------------------------------------------------\u001b[0m",
      "\u001b[0;31mAttributeError\u001b[0m                            Traceback (most recent call last)",
      "Cell \u001b[0;32mIn[53], line 1\u001b[0m\n\u001b[0;32m----> 1\u001b[0m mirror_motor\u001b[38;5;241m.\u001b[39my\u001b[38;5;241m.\u001b[39mbackward(\u001b[38;5;241m1\u001b[39m)\n",
      "File \u001b[0;32m~/Documents/phineas/sipyco/sipyco/pc_rpc.py:184\u001b[0m, in \u001b[0;36mClient.__getattr__\u001b[0;34m(self, name)\u001b[0m\n\u001b[1;32m    182\u001b[0m \u001b[38;5;28;01mdef\u001b[39;00m \u001b[38;5;21m__getattr__\u001b[39m(\u001b[38;5;28mself\u001b[39m, name):\n\u001b[1;32m    183\u001b[0m     \u001b[38;5;28;01mif\u001b[39;00m name \u001b[38;5;129;01mnot\u001b[39;00m \u001b[38;5;129;01min\u001b[39;00m \u001b[38;5;28mself\u001b[39m\u001b[38;5;241m.\u001b[39m__valid_methods:\n\u001b[0;32m--> 184\u001b[0m         \u001b[38;5;28;01mraise\u001b[39;00m \u001b[38;5;167;01mAttributeError\u001b[39;00m\n\u001b[1;32m    186\u001b[0m     \u001b[38;5;28;01mdef\u001b[39;00m \u001b[38;5;21mproxy\u001b[39m(\u001b[38;5;241m*\u001b[39margs, \u001b[38;5;241m*\u001b[39m\u001b[38;5;241m*\u001b[39mkwargs):\n\u001b[1;32m    187\u001b[0m         \u001b[38;5;28;01mreturn\u001b[39;00m \u001b[38;5;28mself\u001b[39m\u001b[38;5;241m.\u001b[39m__do_rpc(name, args, kwargs)\n",
      "\u001b[0;31mAttributeError\u001b[0m: "
     ]
    }
   ],
   "source": [
    "mirror_motor.y.backward(1)"
   ]
  }
 ],
 "metadata": {
  "kernelspec": {
   "display_name": "Python 3 (ipykernel)",
   "language": "python",
   "name": "python3"
  },
  "language_info": {
   "codemirror_mode": {
    "name": "ipython",
    "version": 3
   },
   "file_extension": ".py",
   "mimetype": "text/x-python",
   "name": "python",
   "nbconvert_exporter": "python",
   "pygments_lexer": "ipython3",
   "version": "3.12.3"
  }
 },
 "nbformat": 4,
 "nbformat_minor": 5
}
