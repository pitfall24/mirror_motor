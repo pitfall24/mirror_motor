{
 "cells": [
  {
   "cell_type": "code",
   "execution_count": 217,
   "id": "0e09d730-c701-414b-9114-d0838892cec9",
   "metadata": {},
   "outputs": [],
   "source": [
    "from client import Client\n",
    "from time import monotonic, sleep"
   ]
  },
  {
   "cell_type": "code",
   "execution_count": 271,
   "id": "7465356f-d45b-4feb-ae79-5c8f904a6120",
   "metadata": {},
   "outputs": [],
   "source": [
    "ip = '192.168.5.231' # IP for reliance1 (what the server is bound to)\n",
    "port = 3490 # port the aqctl simple_server_loop is hosted at with the -p argument (`netstat -ano` to find used ports i think)\n",
    "\n",
    "mirror_motor = Client(ip, port)"
   ]
  },
  {
   "cell_type": "code",
   "execution_count": 294,
   "id": "f9a24df7-b014-46c5-90b2-594d578dc9a9",
   "metadata": {},
   "outputs": [],
   "source": [
    "mirror_motor.reboot()"
   ]
  },
  {
   "cell_type": "code",
   "execution_count": 205,
   "id": "e9c4788a-cd45-456e-89c9-6c6d7a7271ca",
   "metadata": {},
   "outputs": [
    {
     "data": {
      "text/plain": [
       "\"Log (most recent LAST) (length 25: ['n', 'n', 'n', 'n', 'n', 'n', 'n', 'n', 'n', 'n', 'n', 'n', 'n', 'n', 'n', 'n', 'n', 'n', 'n', 'n', 'n', 'n', 'n', 'n', 'S'].\""
      ]
     },
     "execution_count": 205,
     "metadata": {},
     "output_type": "execute_result"
    }
   ],
   "source": [
    "mirror_motor.get_log()"
   ]
  },
  {
   "cell_type": "code",
   "execution_count": 295,
   "id": "358bd0f0-b973-4f1a-8e26-58e5ed6b523e",
   "metadata": {},
   "outputs": [],
   "source": [
    "mirror_motor.register('A', 'x')"
   ]
  },
  {
   "cell_type": "code",
   "execution_count": 299,
   "id": "58311ff9-8c5a-4f92-a3bf-368217e83086",
   "metadata": {},
   "outputs": [],
   "source": [
    "mirror_motor.A.x.move('f', 10)"
   ]
  },
  {
   "cell_type": "code",
   "execution_count": 300,
   "id": "e61c9b11-6514-4b22-9a14-8ebcf69e7a2c",
   "metadata": {},
   "outputs": [],
   "source": [
    "mirror_motor.sleep()"
   ]
  },
  {
   "cell_type": "code",
   "execution_count": 298,
   "id": "1ade3d43-6198-426e-9af6-5e88bda8e7ff",
   "metadata": {},
   "outputs": [],
   "source": [
    "mirror_motor.wake()"
   ]
  },
  {
   "cell_type": "code",
   "execution_count": 282,
   "id": "e965300a-9022-40ba-881b-711cdf8ff4ce",
   "metadata": {},
   "outputs": [
    {
     "data": {
      "text/plain": [
       "('2', 'Status is awake and currently running a stepper')"
      ]
     },
     "execution_count": 282,
     "metadata": {},
     "output_type": "execute_result"
    }
   ],
   "source": [
    "mirror_motor.status()"
   ]
  },
  {
   "cell_type": "code",
   "execution_count": 283,
   "id": "581c3005-87ab-487c-a696-d3e467835118",
   "metadata": {},
   "outputs": [
    {
     "data": {
      "text/plain": [
       "[]"
      ]
     },
     "execution_count": 283,
     "metadata": {},
     "output_type": "execute_result"
    }
   ],
   "source": [
    "mirror_motor.read_chars()"
   ]
  },
  {
   "cell_type": "code",
   "execution_count": 289,
   "id": "4e3f8029-4c06-4942-a6a8-df0c40153900",
   "metadata": {},
   "outputs": [
    {
     "name": "stdout",
     "output_type": "stream",
     "text": [
      "time: 5.000939983874559\n",
      "updates: 13283, per second: 2656.10066164177\n"
     ]
    }
   ],
   "source": [
    "mirror_motor.reboot()\n",
    "start = monotonic()\n",
    "#mirror_motor.sleep()\n",
    "sleep(5)\n",
    "mirror_motor.write_char('j')\n",
    "end = monotonic()\n",
    "sleep(0.05)\n",
    "print(f'time: {end - start}')\n",
    "updates = int(''.join(mirror_motor.read_chars()))\n",
    "print(f'updates: {updates}, per second: {updates / (end - start)}')"
   ]
  }
 ],
 "metadata": {
  "kernelspec": {
   "display_name": "Python 3 (ipykernel)",
   "language": "python",
   "name": "python3"
  },
  "language_info": {
   "codemirror_mode": {
    "name": "ipython",
    "version": 3
   },
   "file_extension": ".py",
   "mimetype": "text/x-python",
   "name": "python",
   "nbconvert_exporter": "python",
   "pygments_lexer": "ipython3",
   "version": "3.12.3"
  }
 },
 "nbformat": 4,
 "nbformat_minor": 5
}
