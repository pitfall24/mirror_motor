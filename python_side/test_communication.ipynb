{
 "cells": [
  {
   "cell_type": "code",
   "execution_count": 16,
   "id": "0e09d730-c701-414b-9114-d0838892cec9",
   "metadata": {},
   "outputs": [],
   "source": [
    "from client import Client"
   ]
  },
  {
   "cell_type": "code",
   "execution_count": 34,
   "id": "7465356f-d45b-4feb-ae79-5c8f904a6120",
   "metadata": {},
   "outputs": [],
   "source": [
    "ip = '192.168.5.231' # IP for reliance1 (what the server is bound to)\n",
    "port = 3490 # port the aqctl simple_server_loop is hosted at with the -p argument (`netstat -ano` to find used ports i think)\n",
    "\n",
    "mirror_motor = Client(ip, port)"
   ]
  },
  {
   "cell_type": "code",
   "execution_count": 35,
   "id": "76e7b9d5-71df-42c4-a779-5ef8011fd1f9",
   "metadata": {},
   "outputs": [],
   "source": [
    "mirror_motor.write_char('a')"
   ]
  },
  {
   "cell_type": "code",
   "execution_count": 36,
   "id": "1d3e0d6b-866a-45e2-ab08-3fc873e12319",
   "metadata": {},
   "outputs": [
    {
     "data": {
      "text/plain": [
       "'Got: a, equivalent? true\\n'"
      ]
     },
     "execution_count": 36,
     "metadata": {},
     "output_type": "execute_result"
    }
   ],
   "source": [
    "''.join(mirror_motor.read_chars())"
   ]
  },
  {
   "cell_type": "code",
   "execution_count": 37,
   "id": "c8eb02b0-4247-449b-89de-d2a578445095",
   "metadata": {},
   "outputs": [
    {
     "ename": "AttributeError",
     "evalue": "'MirrorMotor' object has no attribute 'x'",
     "output_type": "error",
     "traceback": [
      "\u001b[0;31m---------------------------------------------------------------------------\u001b[0m",
      "\u001b[0;31mAttributeError\u001b[0m                            Traceback (most recent call last)",
      "Cell \u001b[0;32mIn[37], line 1\u001b[0m\n\u001b[0;32m----> 1\u001b[0m mirror_motor\u001b[38;5;241m.\u001b[39mx\u001b[38;5;241m.\u001b[39mforward(\u001b[38;5;241m1\u001b[39m)\n",
      "File \u001b[0;32m~/Documents/phineas/mirror_motor/python_side/client.py:19\u001b[0m, in \u001b[0;36mRemoteAttributeProxy.__call__\u001b[0;34m(self, *args, **kwargs)\u001b[0m\n\u001b[1;32m     16\u001b[0m \u001b[38;5;28;01melse\u001b[39;00m:\n\u001b[1;32m     17\u001b[0m     path, method \u001b[38;5;241m=\u001b[39m \u001b[38;5;124m'\u001b[39m\u001b[38;5;124m'\u001b[39m, parts[\u001b[38;5;241m0\u001b[39m]\n\u001b[0;32m---> 19\u001b[0m \u001b[38;5;28;01mreturn\u001b[39;00m \u001b[38;5;28mself\u001b[39m\u001b[38;5;241m.\u001b[39m_client\u001b[38;5;241m.\u001b[39mcall_method(path, method, \u001b[38;5;241m*\u001b[39margs, \u001b[38;5;241m*\u001b[39m\u001b[38;5;241m*\u001b[39mkwargs)\n",
      "File \u001b[0;32m~/Documents/phineas/sipyco/sipyco/pc_rpc.py:187\u001b[0m, in \u001b[0;36mClient.__getattr__.<locals>.proxy\u001b[0;34m(*args, **kwargs)\u001b[0m\n\u001b[1;32m    186\u001b[0m \u001b[38;5;28;01mdef\u001b[39;00m \u001b[38;5;21mproxy\u001b[39m(\u001b[38;5;241m*\u001b[39margs, \u001b[38;5;241m*\u001b[39m\u001b[38;5;241m*\u001b[39mkwargs):\n\u001b[0;32m--> 187\u001b[0m     \u001b[38;5;28;01mreturn\u001b[39;00m \u001b[38;5;28mself\u001b[39m\u001b[38;5;241m.\u001b[39m__do_rpc(name, args, kwargs)\n",
      "File \u001b[0;32m~/Documents/phineas/sipyco/sipyco/pc_rpc.py:176\u001b[0m, in \u001b[0;36mClient.__do_rpc\u001b[0;34m(self, name, args, kwargs)\u001b[0m\n\u001b[1;32m    174\u001b[0m \u001b[38;5;28;01mdef\u001b[39;00m \u001b[38;5;21m__do_rpc\u001b[39m(\u001b[38;5;28mself\u001b[39m, name, args, kwargs):\n\u001b[1;32m    175\u001b[0m     obj \u001b[38;5;241m=\u001b[39m {\u001b[38;5;124m\"\u001b[39m\u001b[38;5;124maction\u001b[39m\u001b[38;5;124m\"\u001b[39m: \u001b[38;5;124m\"\u001b[39m\u001b[38;5;124mcall\u001b[39m\u001b[38;5;124m\"\u001b[39m, \u001b[38;5;124m\"\u001b[39m\u001b[38;5;124mname\u001b[39m\u001b[38;5;124m\"\u001b[39m: name, \u001b[38;5;124m\"\u001b[39m\u001b[38;5;124margs\u001b[39m\u001b[38;5;124m\"\u001b[39m: args, \u001b[38;5;124m\"\u001b[39m\u001b[38;5;124mkwargs\u001b[39m\u001b[38;5;124m\"\u001b[39m: kwargs}\n\u001b[0;32m--> 176\u001b[0m     \u001b[38;5;28;01mreturn\u001b[39;00m \u001b[38;5;28mself\u001b[39m\u001b[38;5;241m.\u001b[39m__do_action(obj)\n",
      "File \u001b[0;32m~/Documents/phineas/sipyco/sipyco/pc_rpc.py:170\u001b[0m, in \u001b[0;36mClient.__do_action\u001b[0;34m(self, action)\u001b[0m\n\u001b[1;32m    168\u001b[0m     \u001b[38;5;28;01mreturn\u001b[39;00m obj[\u001b[38;5;124m\"\u001b[39m\u001b[38;5;124mret\u001b[39m\u001b[38;5;124m\"\u001b[39m]\n\u001b[1;32m    169\u001b[0m \u001b[38;5;28;01melif\u001b[39;00m obj[\u001b[38;5;124m\"\u001b[39m\u001b[38;5;124mstatus\u001b[39m\u001b[38;5;124m\"\u001b[39m] \u001b[38;5;241m==\u001b[39m \u001b[38;5;124m\"\u001b[39m\u001b[38;5;124mfailed\u001b[39m\u001b[38;5;124m\"\u001b[39m:\n\u001b[0;32m--> 170\u001b[0m     raise_packed_exc(obj[\u001b[38;5;124m\"\u001b[39m\u001b[38;5;124mexception\u001b[39m\u001b[38;5;124m\"\u001b[39m])\n\u001b[1;32m    171\u001b[0m \u001b[38;5;28;01melse\u001b[39;00m:\n\u001b[1;32m    172\u001b[0m     \u001b[38;5;28;01mraise\u001b[39;00m \u001b[38;5;167;01mValueError\u001b[39;00m\n",
      "File \u001b[0;32m~/Documents/phineas/sipyco/sipyco/packed_exceptions.py:42\u001b[0m, in \u001b[0;36mraise_packed_exc\u001b[0;34m(pack)\u001b[0m\n\u001b[1;32m     40\u001b[0m exc \u001b[38;5;241m=\u001b[39m \u001b[38;5;28mcls\u001b[39m(pack[\u001b[38;5;124m\"\u001b[39m\u001b[38;5;124mmessage\u001b[39m\u001b[38;5;124m\"\u001b[39m])\n\u001b[1;32m     41\u001b[0m exc\u001b[38;5;241m.\u001b[39mparent_traceback \u001b[38;5;241m=\u001b[39m pack[\u001b[38;5;124m\"\u001b[39m\u001b[38;5;124mtraceback\u001b[39m\u001b[38;5;124m\"\u001b[39m]\n\u001b[0;32m---> 42\u001b[0m \u001b[38;5;28;01mraise\u001b[39;00m exc\n",
      "\u001b[0;31mAttributeError\u001b[0m: 'MirrorMotor' object has no attribute 'x'"
     ]
    }
   ],
   "source": [
    "mirror_motor.x.forward(1)"
   ]
  },
  {
   "cell_type": "code",
   "execution_count": 53,
   "id": "eb0ec11d-7032-4bb9-9d00-7d6b3f56bca6",
   "metadata": {},
   "outputs": [
    {
     "ename": "AttributeError",
     "evalue": "",
     "output_type": "error",
     "traceback": [
      "\u001b[0;31m---------------------------------------------------------------------------\u001b[0m",
      "\u001b[0;31mAttributeError\u001b[0m                            Traceback (most recent call last)",
      "Cell \u001b[0;32mIn[53], line 1\u001b[0m\n\u001b[0;32m----> 1\u001b[0m mirror_motor\u001b[38;5;241m.\u001b[39my\u001b[38;5;241m.\u001b[39mbackward(\u001b[38;5;241m1\u001b[39m)\n",
      "File \u001b[0;32m~/Documents/phineas/sipyco/sipyco/pc_rpc.py:184\u001b[0m, in \u001b[0;36mClient.__getattr__\u001b[0;34m(self, name)\u001b[0m\n\u001b[1;32m    182\u001b[0m \u001b[38;5;28;01mdef\u001b[39;00m \u001b[38;5;21m__getattr__\u001b[39m(\u001b[38;5;28mself\u001b[39m, name):\n\u001b[1;32m    183\u001b[0m     \u001b[38;5;28;01mif\u001b[39;00m name \u001b[38;5;129;01mnot\u001b[39;00m \u001b[38;5;129;01min\u001b[39;00m \u001b[38;5;28mself\u001b[39m\u001b[38;5;241m.\u001b[39m__valid_methods:\n\u001b[0;32m--> 184\u001b[0m         \u001b[38;5;28;01mraise\u001b[39;00m \u001b[38;5;167;01mAttributeError\u001b[39;00m\n\u001b[1;32m    186\u001b[0m     \u001b[38;5;28;01mdef\u001b[39;00m \u001b[38;5;21mproxy\u001b[39m(\u001b[38;5;241m*\u001b[39margs, \u001b[38;5;241m*\u001b[39m\u001b[38;5;241m*\u001b[39mkwargs):\n\u001b[1;32m    187\u001b[0m         \u001b[38;5;28;01mreturn\u001b[39;00m \u001b[38;5;28mself\u001b[39m\u001b[38;5;241m.\u001b[39m__do_rpc(name, args, kwargs)\n",
      "\u001b[0;31mAttributeError\u001b[0m: "
     ]
    }
   ],
   "source": [
    "mirror_motor.y.backward(1)"
   ]
  }
 ],
 "metadata": {
  "kernelspec": {
   "display_name": "Python 3 (ipykernel)",
   "language": "python",
   "name": "python3"
  },
  "language_info": {
   "codemirror_mode": {
    "name": "ipython",
    "version": 3
   },
   "file_extension": ".py",
   "mimetype": "text/x-python",
   "name": "python",
   "nbconvert_exporter": "python",
   "pygments_lexer": "ipython3",
   "version": "3.12.3"
  }
 },
 "nbformat": 4,
 "nbformat_minor": 5
}
