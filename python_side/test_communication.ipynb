{
 "cells": [
  {
   "cell_type": "code",
   "execution_count": 298,
   "id": "0e09d730-c701-414b-9114-d0838892cec9",
   "metadata": {},
   "outputs": [],
   "source": [
    "from client import Client\n",
    "from time import monotonic, sleep"
   ]
  },
  {
   "cell_type": "code",
   "execution_count": 299,
   "id": "7fd00224-1d9c-4c3c-a01a-b0062393867d",
   "metadata": {},
   "outputs": [],
   "source": [
    "steps_per_sec = 600\n",
    "accel = 2000 # usually irrelevant"
   ]
  },
  {
   "cell_type": "code",
   "execution_count": 433,
   "id": "7465356f-d45b-4feb-ae79-5c8f904a6120",
   "metadata": {},
   "outputs": [],
   "source": [
    "ip = '192.168.5.231' # IP for reliance1 (what the server is bound to)\n",
    "port = 3490 # port the aqctl simple_server_loop is hosted at with the -p argument (`netstat -ano` to find used ports i think)\n",
    "\n",
    "mirror_motor = Client(ip, port)"
   ]
  },
  {
   "cell_type": "code",
   "execution_count": 434,
   "id": "f9a24df7-b014-46c5-90b2-594d578dc9a9",
   "metadata": {},
   "outputs": [],
   "source": [
    "mirror_motor.reboot()"
   ]
  },
  {
   "cell_type": "code",
   "execution_count": 441,
   "id": "e9c4788a-cd45-456e-89c9-6c6d7a7271ca",
   "metadata": {},
   "outputs": [
    {
     "data": {
      "text/plain": [
       "'Log (most recent LAST) (length 0): [].'"
      ]
     },
     "execution_count": 441,
     "metadata": {},
     "output_type": "execute_result"
    }
   ],
   "source": [
    "mirror_motor.get_log()"
   ]
  },
  {
   "cell_type": "code",
   "execution_count": 437,
   "id": "358bd0f0-b973-4f1a-8e26-58e5ed6b523e",
   "metadata": {},
   "outputs": [],
   "source": [
    "mirror_motor.register('A', 'x')"
   ]
  },
  {
   "cell_type": "code",
   "execution_count": 388,
   "id": "c6faaf37-9903-47b0-8d29-cbeffb02a66e",
   "metadata": {},
   "outputs": [],
   "source": [
    "mirror_motor.register('A', 'y')"
   ]
  },
  {
   "cell_type": "code",
   "execution_count": 389,
   "id": "6009bad1-8411-49a2-a1c1-02e098ff493c",
   "metadata": {},
   "outputs": [],
   "source": [
    "x = lambda v: mirror_motor.A.x.move('b', v) # both backwards so that moving a positive value results\n",
    "y = lambda v: mirror_motor.A.y.move('b', v) # in pointing top left (e.g. +x and +y axes)"
   ]
  },
  {
   "cell_type": "code",
   "execution_count": 344,
   "id": "cb97b7a6-795a-408d-a1a2-e5439d9b157a",
   "metadata": {},
   "outputs": [],
   "source": [
    "mirror_motor.cancel_all()"
   ]
  },
  {
   "cell_type": "code",
   "execution_count": 439,
   "id": "58311ff9-8c5a-4f92-a3bf-368217e83086",
   "metadata": {},
   "outputs": [
    {
     "name": "stdout",
     "output_type": "stream",
     "text": [
      "type: <class 'dict'>\n",
      "pack:\n",
      "class: Exception\n",
      "message: Failed to send -800 steps to axis x on mirror A.\n",
      "traceback: ['  File \"/home/quanta/Documents/phineas/sipyco/sipyco/pc_rpc.py\", line 575, in _process_and_pyonize\\n    \"ret\": await self._process_action(target, obj)\\n           ^^^^^^^^^^^^^^^^^^^^^^^^^^^^^^^^^^^^^^^\\n', '  File \"/home/quanta/Documents/phineas/sipyco/sipyco/pc_rpc.py\", line 560, in _process_action\\n    ret = method(*obj[\"args\"], **obj[\"kwargs\"])\\n          ^^^^^^^^^^^^^^^^^^^^^^^^^^^^^^^^^^^^^\\n', '  File \"/home/quanta/Documents/phineas/mirror_motor/python_side/aqctl_mirror_motor.py\", line 31, in call_method\\n    return func(*args, **kwargs)\\n           ^^^^^^^^^^^^^^^^^^^^^\\n', '  File \"/home/quanta/Documents/phineas/mirror_motor/python_side/driver.py\", line 343, in move\\n    raise Exception(f\\'Failed to send {steps} steps to axis {self.axis} on mirror {self.mirror}.\\')\\n']\n",
      "class: Exception\n",
      "  File \"/home/quanta/Documents/phineas/sipyco/sipyco/pc_rpc.py\", line 575, in _process_and_pyonize\n",
      "    \"ret\": await self._process_action(target, obj)\n",
      "           ^^^^^^^^^^^^^^^^^^^^^^^^^^^^^^^^^^^^^^^\n",
      "   File \"/home/quanta/Documents/phineas/sipyco/sipyco/pc_rpc.py\", line 560, in _process_action\n",
      "    ret = method(*obj[\"args\"], **obj[\"kwargs\"])\n",
      "          ^^^^^^^^^^^^^^^^^^^^^^^^^^^^^^^^^^^^^\n",
      "   File \"/home/quanta/Documents/phineas/mirror_motor/python_side/aqctl_mirror_motor.py\", line 31, in call_method\n",
      "    return func(*args, **kwargs)\n",
      "           ^^^^^^^^^^^^^^^^^^^^^\n",
      "   File \"/home/quanta/Documents/phineas/mirror_motor/python_side/driver.py\", line 343, in move\n",
      "    raise Exception(f'Failed to send {steps} steps to axis {self.axis} on mirror {self.mirror}.')\n",
      "\n"
     ]
    },
    {
     "ename": "Exception",
     "evalue": "Failed to send -800 steps to axis x on mirror A.",
     "output_type": "error",
     "traceback": [
      "\u001b[0;31m---------------------------------------------------------------------------\u001b[0m",
      "\u001b[0;31mException\u001b[0m                                 Traceback (most recent call last)",
      "Cell \u001b[0;32mIn[439], line 1\u001b[0m\n\u001b[0;32m----> 1\u001b[0m mirror_motor\u001b[38;5;241m.\u001b[39mA\u001b[38;5;241m.\u001b[39mx\u001b[38;5;241m.\u001b[39mmove(\u001b[38;5;124m'\u001b[39m\u001b[38;5;124mf\u001b[39m\u001b[38;5;124m'\u001b[39m, \u001b[38;5;241m-\u001b[39m\u001b[38;5;241m800\u001b[39m)\n",
      "File \u001b[0;32m~/Documents/phineas/mirror_motor/python_side/client.py:19\u001b[0m, in \u001b[0;36mRemoteAttributeProxy.__call__\u001b[0;34m(self, *args, **kwargs)\u001b[0m\n\u001b[1;32m     16\u001b[0m \u001b[38;5;28;01melse\u001b[39;00m:\n\u001b[1;32m     17\u001b[0m     path, method \u001b[38;5;241m=\u001b[39m \u001b[38;5;124m'\u001b[39m\u001b[38;5;124m'\u001b[39m, parts[\u001b[38;5;241m0\u001b[39m]\n\u001b[0;32m---> 19\u001b[0m \u001b[38;5;28;01mreturn\u001b[39;00m \u001b[38;5;28mself\u001b[39m\u001b[38;5;241m.\u001b[39m_client\u001b[38;5;241m.\u001b[39mcall_method(path, method, \u001b[38;5;241m*\u001b[39margs, \u001b[38;5;241m*\u001b[39m\u001b[38;5;241m*\u001b[39mkwargs)\n",
      "File \u001b[0;32m~/Documents/phineas/sipyco/sipyco/pc_rpc.py:187\u001b[0m, in \u001b[0;36mClient.__getattr__.<locals>.proxy\u001b[0;34m(*args, **kwargs)\u001b[0m\n\u001b[1;32m    186\u001b[0m \u001b[38;5;28;01mdef\u001b[39;00m \u001b[38;5;21mproxy\u001b[39m(\u001b[38;5;241m*\u001b[39margs, \u001b[38;5;241m*\u001b[39m\u001b[38;5;241m*\u001b[39mkwargs):\n\u001b[0;32m--> 187\u001b[0m     \u001b[38;5;28;01mreturn\u001b[39;00m \u001b[38;5;28mself\u001b[39m\u001b[38;5;241m.\u001b[39m__do_rpc(name, args, kwargs)\n",
      "File \u001b[0;32m~/Documents/phineas/sipyco/sipyco/pc_rpc.py:176\u001b[0m, in \u001b[0;36mClient.__do_rpc\u001b[0;34m(self, name, args, kwargs)\u001b[0m\n\u001b[1;32m    174\u001b[0m \u001b[38;5;28;01mdef\u001b[39;00m \u001b[38;5;21m__do_rpc\u001b[39m(\u001b[38;5;28mself\u001b[39m, name, args, kwargs):\n\u001b[1;32m    175\u001b[0m     obj \u001b[38;5;241m=\u001b[39m {\u001b[38;5;124m\"\u001b[39m\u001b[38;5;124maction\u001b[39m\u001b[38;5;124m\"\u001b[39m: \u001b[38;5;124m\"\u001b[39m\u001b[38;5;124mcall\u001b[39m\u001b[38;5;124m\"\u001b[39m, \u001b[38;5;124m\"\u001b[39m\u001b[38;5;124mname\u001b[39m\u001b[38;5;124m\"\u001b[39m: name, \u001b[38;5;124m\"\u001b[39m\u001b[38;5;124margs\u001b[39m\u001b[38;5;124m\"\u001b[39m: args, \u001b[38;5;124m\"\u001b[39m\u001b[38;5;124mkwargs\u001b[39m\u001b[38;5;124m\"\u001b[39m: kwargs}\n\u001b[0;32m--> 176\u001b[0m     \u001b[38;5;28;01mreturn\u001b[39;00m \u001b[38;5;28mself\u001b[39m\u001b[38;5;241m.\u001b[39m__do_action(obj)\n",
      "File \u001b[0;32m~/Documents/phineas/sipyco/sipyco/pc_rpc.py:170\u001b[0m, in \u001b[0;36mClient.__do_action\u001b[0;34m(self, action)\u001b[0m\n\u001b[1;32m    168\u001b[0m     \u001b[38;5;28;01mreturn\u001b[39;00m obj[\u001b[38;5;124m\"\u001b[39m\u001b[38;5;124mret\u001b[39m\u001b[38;5;124m\"\u001b[39m]\n\u001b[1;32m    169\u001b[0m \u001b[38;5;28;01melif\u001b[39;00m obj[\u001b[38;5;124m\"\u001b[39m\u001b[38;5;124mstatus\u001b[39m\u001b[38;5;124m\"\u001b[39m] \u001b[38;5;241m==\u001b[39m \u001b[38;5;124m\"\u001b[39m\u001b[38;5;124mfailed\u001b[39m\u001b[38;5;124m\"\u001b[39m:\n\u001b[0;32m--> 170\u001b[0m     raise_packed_exc(obj[\u001b[38;5;124m\"\u001b[39m\u001b[38;5;124mexception\u001b[39m\u001b[38;5;124m\"\u001b[39m])\n\u001b[1;32m    171\u001b[0m \u001b[38;5;28;01melse\u001b[39;00m:\n\u001b[1;32m    172\u001b[0m     \u001b[38;5;28;01mraise\u001b[39;00m \u001b[38;5;167;01mValueError\u001b[39;00m\n",
      "File \u001b[0;32m~/Documents/phineas/sipyco/sipyco/packed_exceptions.py:54\u001b[0m, in \u001b[0;36mraise_packed_exc\u001b[0;34m(pack)\u001b[0m\n\u001b[1;32m     50\u001b[0m exc\u001b[38;5;241m.\u001b[39mparent_traceback \u001b[38;5;241m=\u001b[39m pack[\u001b[38;5;124m\"\u001b[39m\u001b[38;5;124mtraceback\u001b[39m\u001b[38;5;124m\"\u001b[39m]\n\u001b[1;32m     52\u001b[0m \u001b[38;5;28mprint\u001b[39m(\u001b[38;5;241m*\u001b[39mpack[\u001b[38;5;124m\"\u001b[39m\u001b[38;5;124mtraceback\u001b[39m\u001b[38;5;124m\"\u001b[39m])\n\u001b[0;32m---> 54\u001b[0m \u001b[38;5;28;01mraise\u001b[39;00m exc\n",
      "\u001b[0;31mException\u001b[0m: Failed to send -800 steps to axis x on mirror A."
     ]
    }
   ],
   "source": [
    "mirror_motor.A.x.move('f', -800)"
   ]
  },
  {
   "cell_type": "code",
   "execution_count": 399,
   "id": "d6ebcb75-2199-4205-b12b-c35bc21fb2ed",
   "metadata": {},
   "outputs": [],
   "source": [
    "mirror_motor.A.x.move('b', 800)"
   ]
  },
  {
   "cell_type": "code",
   "execution_count": 260,
   "id": "170bf5d9-419d-4e06-9250-ade62a78aa49",
   "metadata": {},
   "outputs": [],
   "source": [
    "mirror_motor.A.y.move('f', 800)"
   ]
  },
  {
   "cell_type": "code",
   "execution_count": 261,
   "id": "3b2d4db7-04a3-4435-abaf-8cf62f82c43c",
   "metadata": {},
   "outputs": [],
   "source": [
    "mirror_motor.A.y.move('b', 800)"
   ]
  },
  {
   "cell_type": "code",
   "execution_count": 185,
   "id": "aec208ef-cdb3-437a-a50c-d2a28f524881",
   "metadata": {},
   "outputs": [
    {
     "data": {
      "text/plain": [
       "'Failed to undo move for axis x on mirror A while confirming communication (probably sleeping).'"
      ]
     },
     "execution_count": 185,
     "metadata": {},
     "output_type": "execute_result"
    }
   ],
   "source": [
    "mirror_motor.A.undo()"
   ]
  },
  {
   "cell_type": "code",
   "execution_count": 183,
   "id": "a185e0c3-6b27-48ad-bc28-0cb643095751",
   "metadata": {},
   "outputs": [],
   "source": [
    "mirror_motor.A.redo()"
   ]
  },
  {
   "cell_type": "code",
   "execution_count": 416,
   "id": "e61c9b11-6514-4b22-9a14-8ebcf69e7a2c",
   "metadata": {},
   "outputs": [],
   "source": [
    "mirror_motor.sleep()"
   ]
  },
  {
   "cell_type": "code",
   "execution_count": 362,
   "id": "1ade3d43-6198-426e-9af6-5e88bda8e7ff",
   "metadata": {},
   "outputs": [],
   "source": [
    "mirror_motor.wake()"
   ]
  },
  {
   "cell_type": "code",
   "execution_count": 320,
   "id": "e965300a-9022-40ba-881b-711cdf8ff4ce",
   "metadata": {},
   "outputs": [
    {
     "data": {
      "text/plain": [
       "('3', 'Status is asleep')"
      ]
     },
     "execution_count": 320,
     "metadata": {},
     "output_type": "execute_result"
    }
   ],
   "source": [
    "mirror_motor.status()"
   ]
  },
  {
   "cell_type": "code",
   "execution_count": 316,
   "id": "581c3005-87ab-487c-a696-d3e467835118",
   "metadata": {},
   "outputs": [
    {
     "data": {
      "text/plain": [
       "[]"
      ]
     },
     "execution_count": 316,
     "metadata": {},
     "output_type": "execute_result"
    }
   ],
   "source": [
    "mirror_motor.read_chars()"
   ]
  },
  {
   "cell_type": "code",
   "execution_count": 312,
   "id": "8c6bb3c8-1a10-4089-95f6-c865d56b180e",
   "metadata": {},
   "outputs": [],
   "source": [
    "# move in a circle\n",
    "import numpy as np\n",
    "\n",
    "angs = np.linspace(0, 2*3.1415, num=100)\n",
    "rad = 800 # radius of 800 steps\n",
    "pts = (rad * np.cos(angs), rad * np.sin(angs))\n",
    "diffs = (np.diff(pts[0]), np.diff(pts[1]))"
   ]
  },
  {
   "cell_type": "code",
   "execution_count": 313,
   "id": "2c054d93-04a1-4ce8-83c3-7f64b3c67fe6",
   "metadata": {},
   "outputs": [
    {
     "name": "stdout",
     "output_type": "stream",
     "text": [
      "type: <class 'dict'>\n",
      "pack:\n",
      "class: Exception\n",
      "message: Failed to send -1 steps to axis x on mirror A.\n",
      "traceback: ['  File \"/home/quanta/Documents/phineas/sipyco/sipyco/pc_rpc.py\", line 575, in _process_and_pyonize\\n    \"ret\": await self._process_action(target, obj)\\n           ^^^^^^^^^^^^^^^^^^^^^^^^^^^^^^^^^^^^^^^\\n', '  File \"/home/quanta/Documents/phineas/sipyco/sipyco/pc_rpc.py\", line 560, in _process_action\\n    ret = method(*obj[\"args\"], **obj[\"kwargs\"])\\n          ^^^^^^^^^^^^^^^^^^^^^^^^^^^^^^^^^^^^^\\n', '  File \"/home/quanta/Documents/phineas/mirror_motor/python_side/aqctl_mirror_motor.py\", line 31, in call_method\\n    return func(*args, **kwargs)\\n           ^^^^^^^^^^^^^^^^^^^^^\\n', '  File \"/home/quanta/Documents/phineas/mirror_motor/python_side/driver.py\", line 343, in move\\n    raise Exception(f\\'Failed to send {steps} steps to axis {self.axis} on mirror {self.mirror}.\\')\\n']\n",
      "class: Exception\n",
      "  File \"/home/quanta/Documents/phineas/sipyco/sipyco/pc_rpc.py\", line 575, in _process_and_pyonize\n",
      "    \"ret\": await self._process_action(target, obj)\n",
      "           ^^^^^^^^^^^^^^^^^^^^^^^^^^^^^^^^^^^^^^^\n",
      "   File \"/home/quanta/Documents/phineas/sipyco/sipyco/pc_rpc.py\", line 560, in _process_action\n",
      "    ret = method(*obj[\"args\"], **obj[\"kwargs\"])\n",
      "          ^^^^^^^^^^^^^^^^^^^^^^^^^^^^^^^^^^^^^\n",
      "   File \"/home/quanta/Documents/phineas/mirror_motor/python_side/aqctl_mirror_motor.py\", line 31, in call_method\n",
      "    return func(*args, **kwargs)\n",
      "           ^^^^^^^^^^^^^^^^^^^^^\n",
      "   File \"/home/quanta/Documents/phineas/mirror_motor/python_side/driver.py\", line 343, in move\n",
      "    raise Exception(f'Failed to send {steps} steps to axis {self.axis} on mirror {self.mirror}.')\n",
      "\n"
     ]
    },
    {
     "ename": "Exception",
     "evalue": "Failed to send -1 steps to axis x on mirror A.",
     "output_type": "error",
     "traceback": [
      "\u001b[0;31m---------------------------------------------------------------------------\u001b[0m",
      "\u001b[0;31mException\u001b[0m                                 Traceback (most recent call last)",
      "Cell \u001b[0;32mIn[313], line 5\u001b[0m\n\u001b[1;32m      2\u001b[0m dx, dy \u001b[38;5;241m=\u001b[39m diffs[\u001b[38;5;241m0\u001b[39m][ind], diffs[\u001b[38;5;241m1\u001b[39m][ind] \u001b[38;5;66;03m# i know i could've set this up way better\u001b[39;00m\n\u001b[1;32m      4\u001b[0m approx_steps \u001b[38;5;241m=\u001b[39m \u001b[38;5;28mint\u001b[39m(\u001b[38;5;28mmax\u001b[39m(\u001b[38;5;28mabs\u001b[39m(dx), \u001b[38;5;28mabs\u001b[39m(dy)))\n\u001b[0;32m----> 5\u001b[0m x(\u001b[38;5;28mint\u001b[39m(dx))\n\u001b[1;32m      6\u001b[0m y(\u001b[38;5;28mint\u001b[39m(dy))\n\u001b[1;32m      7\u001b[0m sleep(approx_steps \u001b[38;5;241m/\u001b[39m steps_per_sec \u001b[38;5;241m+\u001b[39m \u001b[38;5;241m0.05\u001b[39m)\n",
      "Cell \u001b[0;32mIn[305], line 1\u001b[0m, in \u001b[0;36m<lambda>\u001b[0;34m(v)\u001b[0m\n\u001b[0;32m----> 1\u001b[0m x \u001b[38;5;241m=\u001b[39m \u001b[38;5;28;01mlambda\u001b[39;00m v: mirror_motor\u001b[38;5;241m.\u001b[39mA\u001b[38;5;241m.\u001b[39mx\u001b[38;5;241m.\u001b[39mmove(\u001b[38;5;124m'\u001b[39m\u001b[38;5;124mb\u001b[39m\u001b[38;5;124m'\u001b[39m, v) \u001b[38;5;66;03m# both backwards so that moving a positive value results\u001b[39;00m\n\u001b[1;32m      2\u001b[0m y \u001b[38;5;241m=\u001b[39m \u001b[38;5;28;01mlambda\u001b[39;00m v: mirror_motor\u001b[38;5;241m.\u001b[39mA\u001b[38;5;241m.\u001b[39my\u001b[38;5;241m.\u001b[39mmove(\u001b[38;5;124m'\u001b[39m\u001b[38;5;124mb\u001b[39m\u001b[38;5;124m'\u001b[39m, v)\n",
      "File \u001b[0;32m~/Documents/phineas/mirror_motor/python_side/client.py:19\u001b[0m, in \u001b[0;36mRemoteAttributeProxy.__call__\u001b[0;34m(self, *args, **kwargs)\u001b[0m\n\u001b[1;32m     16\u001b[0m \u001b[38;5;28;01melse\u001b[39;00m:\n\u001b[1;32m     17\u001b[0m     path, method \u001b[38;5;241m=\u001b[39m \u001b[38;5;124m'\u001b[39m\u001b[38;5;124m'\u001b[39m, parts[\u001b[38;5;241m0\u001b[39m]\n\u001b[0;32m---> 19\u001b[0m \u001b[38;5;28;01mreturn\u001b[39;00m \u001b[38;5;28mself\u001b[39m\u001b[38;5;241m.\u001b[39m_client\u001b[38;5;241m.\u001b[39mcall_method(path, method, \u001b[38;5;241m*\u001b[39margs, \u001b[38;5;241m*\u001b[39m\u001b[38;5;241m*\u001b[39mkwargs)\n",
      "File \u001b[0;32m~/Documents/phineas/sipyco/sipyco/pc_rpc.py:187\u001b[0m, in \u001b[0;36mClient.__getattr__.<locals>.proxy\u001b[0;34m(*args, **kwargs)\u001b[0m\n\u001b[1;32m    186\u001b[0m \u001b[38;5;28;01mdef\u001b[39;00m \u001b[38;5;21mproxy\u001b[39m(\u001b[38;5;241m*\u001b[39margs, \u001b[38;5;241m*\u001b[39m\u001b[38;5;241m*\u001b[39mkwargs):\n\u001b[0;32m--> 187\u001b[0m     \u001b[38;5;28;01mreturn\u001b[39;00m \u001b[38;5;28mself\u001b[39m\u001b[38;5;241m.\u001b[39m__do_rpc(name, args, kwargs)\n",
      "File \u001b[0;32m~/Documents/phineas/sipyco/sipyco/pc_rpc.py:176\u001b[0m, in \u001b[0;36mClient.__do_rpc\u001b[0;34m(self, name, args, kwargs)\u001b[0m\n\u001b[1;32m    174\u001b[0m \u001b[38;5;28;01mdef\u001b[39;00m \u001b[38;5;21m__do_rpc\u001b[39m(\u001b[38;5;28mself\u001b[39m, name, args, kwargs):\n\u001b[1;32m    175\u001b[0m     obj \u001b[38;5;241m=\u001b[39m {\u001b[38;5;124m\"\u001b[39m\u001b[38;5;124maction\u001b[39m\u001b[38;5;124m\"\u001b[39m: \u001b[38;5;124m\"\u001b[39m\u001b[38;5;124mcall\u001b[39m\u001b[38;5;124m\"\u001b[39m, \u001b[38;5;124m\"\u001b[39m\u001b[38;5;124mname\u001b[39m\u001b[38;5;124m\"\u001b[39m: name, \u001b[38;5;124m\"\u001b[39m\u001b[38;5;124margs\u001b[39m\u001b[38;5;124m\"\u001b[39m: args, \u001b[38;5;124m\"\u001b[39m\u001b[38;5;124mkwargs\u001b[39m\u001b[38;5;124m\"\u001b[39m: kwargs}\n\u001b[0;32m--> 176\u001b[0m     \u001b[38;5;28;01mreturn\u001b[39;00m \u001b[38;5;28mself\u001b[39m\u001b[38;5;241m.\u001b[39m__do_action(obj)\n",
      "File \u001b[0;32m~/Documents/phineas/sipyco/sipyco/pc_rpc.py:170\u001b[0m, in \u001b[0;36mClient.__do_action\u001b[0;34m(self, action)\u001b[0m\n\u001b[1;32m    168\u001b[0m     \u001b[38;5;28;01mreturn\u001b[39;00m obj[\u001b[38;5;124m\"\u001b[39m\u001b[38;5;124mret\u001b[39m\u001b[38;5;124m\"\u001b[39m]\n\u001b[1;32m    169\u001b[0m \u001b[38;5;28;01melif\u001b[39;00m obj[\u001b[38;5;124m\"\u001b[39m\u001b[38;5;124mstatus\u001b[39m\u001b[38;5;124m\"\u001b[39m] \u001b[38;5;241m==\u001b[39m \u001b[38;5;124m\"\u001b[39m\u001b[38;5;124mfailed\u001b[39m\u001b[38;5;124m\"\u001b[39m:\n\u001b[0;32m--> 170\u001b[0m     raise_packed_exc(obj[\u001b[38;5;124m\"\u001b[39m\u001b[38;5;124mexception\u001b[39m\u001b[38;5;124m\"\u001b[39m])\n\u001b[1;32m    171\u001b[0m \u001b[38;5;28;01melse\u001b[39;00m:\n\u001b[1;32m    172\u001b[0m     \u001b[38;5;28;01mraise\u001b[39;00m \u001b[38;5;167;01mValueError\u001b[39;00m\n",
      "File \u001b[0;32m~/Documents/phineas/sipyco/sipyco/packed_exceptions.py:54\u001b[0m, in \u001b[0;36mraise_packed_exc\u001b[0;34m(pack)\u001b[0m\n\u001b[1;32m     50\u001b[0m exc\u001b[38;5;241m.\u001b[39mparent_traceback \u001b[38;5;241m=\u001b[39m pack[\u001b[38;5;124m\"\u001b[39m\u001b[38;5;124mtraceback\u001b[39m\u001b[38;5;124m\"\u001b[39m]\n\u001b[1;32m     52\u001b[0m \u001b[38;5;28mprint\u001b[39m(\u001b[38;5;241m*\u001b[39mpack[\u001b[38;5;124m\"\u001b[39m\u001b[38;5;124mtraceback\u001b[39m\u001b[38;5;124m\"\u001b[39m])\n\u001b[0;32m---> 54\u001b[0m \u001b[38;5;28;01mraise\u001b[39;00m exc\n",
      "\u001b[0;31mException\u001b[0m: Failed to send -1 steps to axis x on mirror A."
     ]
    }
   ],
   "source": [
    "for ind in range(len(diffs[0])):\n",
    "    dx, dy = diffs[0][ind], diffs[1][ind] # i know i could've set this up way better\n",
    "\n",
    "    approx_steps = int(max(abs(dx), abs(dy)))\n",
    "    x(int(dx))\n",
    "    y(int(dy))\n",
    "    sleep(approx_steps / steps_per_sec + 0.05)"
   ]
  }
 ],
 "metadata": {
  "kernelspec": {
   "display_name": "Python 3 (ipykernel)",
   "language": "python",
   "name": "python3"
  },
  "language_info": {
   "codemirror_mode": {
    "name": "ipython",
    "version": 3
   },
   "file_extension": ".py",
   "mimetype": "text/x-python",
   "name": "python",
   "nbconvert_exporter": "python",
   "pygments_lexer": "ipython3",
   "version": "3.12.3"
  }
 },
 "nbformat": 4,
 "nbformat_minor": 5
}
