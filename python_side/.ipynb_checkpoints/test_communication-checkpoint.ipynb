{
 "cells": [
  {
   "cell_type": "code",
   "execution_count": 1,
   "id": "0e09d730-c701-414b-9114-d0838892cec9",
   "metadata": {},
   "outputs": [],
   "source": [
    "from client import Client\n",
    "from time import monotonic, sleep\n",
    "from matplotlib import pyplot as plt\n",
    "\n",
    "%matplotlib inline"
   ]
  },
  {
   "cell_type": "code",
   "execution_count": 2,
   "id": "7fd00224-1d9c-4c3c-a01a-b0062393867d",
   "metadata": {},
   "outputs": [],
   "source": [
    "steps_per_sec = 600\n",
    "accel = 2000 # usually irrelevant"
   ]
  },
  {
   "cell_type": "code",
   "execution_count": 3,
   "id": "7465356f-d45b-4feb-ae79-5c8f904a6120",
   "metadata": {},
   "outputs": [],
   "source": [
    "ip = '192.168.5.231' # IP for reliance1 (what the server is bound to)\n",
    "port = 3490 # port the aqctl simple_server_loop is hosted at with the -p argument (`netstat -ano` to find used ports i think)\n",
    "\n",
    "mirror_motor = Client(ip, port)"
   ]
  },
  {
   "cell_type": "code",
   "execution_count": 611,
   "id": "f9a24df7-b014-46c5-90b2-594d578dc9a9",
   "metadata": {},
   "outputs": [],
   "source": [
    "mirror_motor.reboot()"
   ]
  },
  {
   "cell_type": "code",
   "execution_count": 613,
   "id": "e9c4788a-cd45-456e-89c9-6c6d7a7271ca",
   "metadata": {},
   "outputs": [
    {
     "data": {
      "text/plain": [
       "'Log (most recent LAST) (length 50): nnnnn nnnnn nnnnn nnnnn nnnnn nnnnn nnnnn nnnnn nnnnn nnnnn.'"
      ]
     },
     "execution_count": 613,
     "metadata": {},
     "output_type": "execute_result"
    }
   ],
   "source": [
    "mirror_motor.get_log()"
   ]
  },
  {
   "cell_type": "code",
   "execution_count": 614,
   "id": "358bd0f0-b973-4f1a-8e26-58e5ed6b523e",
   "metadata": {},
   "outputs": [],
   "source": [
    "mirror_motor.register('A', 'x')"
   ]
  },
  {
   "cell_type": "code",
   "execution_count": 615,
   "id": "c6faaf37-9903-47b0-8d29-cbeffb02a66e",
   "metadata": {},
   "outputs": [],
   "source": [
    "mirror_motor.register('A', 'y')"
   ]
  },
  {
   "cell_type": "code",
   "execution_count": 25,
   "id": "6009bad1-8411-49a2-a1c1-02e098ff493c",
   "metadata": {},
   "outputs": [],
   "source": [
    "x = lambda v: mirror_motor.A.x.move('b', v) # both backwards so that moving a positive value results\n",
    "y = lambda v: mirror_motor.A.y.move('b', v) # in pointing top left (e.g. +x and +y axes)\n",
    "def d(_dx, _dy):\n",
    "    x(_dx)\n",
    "    y(_dy)"
   ]
  },
  {
   "cell_type": "code",
   "execution_count": 605,
   "id": "cb97b7a6-795a-408d-a1a2-e5439d9b157a",
   "metadata": {},
   "outputs": [],
   "source": [
    "mirror_motor.cancel_all()"
   ]
  },
  {
   "cell_type": "code",
   "execution_count": 35,
   "id": "58311ff9-8c5a-4f92-a3bf-368217e83086",
   "metadata": {},
   "outputs": [],
   "source": [
    "mirror_motor.A.x.move('f', 3000)"
   ]
  },
  {
   "cell_type": "code",
   "execution_count": 54,
   "id": "d6ebcb75-2199-4205-b12b-c35bc21fb2ed",
   "metadata": {},
   "outputs": [],
   "source": [
    "mirror_motor.A.x.move('b', 3000)"
   ]
  },
  {
   "cell_type": "code",
   "execution_count": 49,
   "id": "170bf5d9-419d-4e06-9250-ade62a78aa49",
   "metadata": {},
   "outputs": [],
   "source": [
    "mirror_motor.A.y.move('f', 7500)"
   ]
  },
  {
   "cell_type": "code",
   "execution_count": 55,
   "id": "3b2d4db7-04a3-4435-abaf-8cf62f82c43c",
   "metadata": {},
   "outputs": [],
   "source": [
    "mirror_motor.A.y.move('b', 3000)"
   ]
  },
  {
   "cell_type": "code",
   "execution_count": 621,
   "id": "aec208ef-cdb3-437a-a50c-d2a28f524881",
   "metadata": {},
   "outputs": [],
   "source": [
    "mirror_motor.A.undo()"
   ]
  },
  {
   "cell_type": "code",
   "execution_count": 622,
   "id": "a185e0c3-6b27-48ad-bc28-0cb643095751",
   "metadata": {},
   "outputs": [],
   "source": [
    "mirror_motor.A.redo()"
   ]
  },
  {
   "cell_type": "code",
   "execution_count": 58,
   "id": "e61c9b11-6514-4b22-9a14-8ebcf69e7a2c",
   "metadata": {},
   "outputs": [],
   "source": [
    "mirror_motor.sleep()"
   ]
  },
  {
   "cell_type": "code",
   "execution_count": 53,
   "id": "1ade3d43-6198-426e-9af6-5e88bda8e7ff",
   "metadata": {},
   "outputs": [],
   "source": [
    "mirror_motor.wake()"
   ]
  },
  {
   "cell_type": "code",
   "execution_count": 623,
   "id": "e965300a-9022-40ba-881b-711cdf8ff4ce",
   "metadata": {},
   "outputs": [
    {
     "data": {
      "text/plain": [
       "('1', 'Status is free and awake')"
      ]
     },
     "execution_count": 623,
     "metadata": {},
     "output_type": "execute_result"
    }
   ],
   "source": [
    "mirror_motor.status()"
   ]
  },
  {
   "cell_type": "code",
   "execution_count": 316,
   "id": "581c3005-87ab-487c-a696-d3e467835118",
   "metadata": {},
   "outputs": [
    {
     "data": {
      "text/plain": [
       "[]"
      ]
     },
     "execution_count": 316,
     "metadata": {},
     "output_type": "execute_result"
    }
   ],
   "source": [
    "mirror_motor.read_chars()"
   ]
  },
  {
   "cell_type": "code",
   "execution_count": 59,
   "id": "ccf8a17a-587e-4e1a-a01c-2558fe06c5c7",
   "metadata": {},
   "outputs": [],
   "source": [
    "# refresh the mirror motor and register axes\n",
    "mirror_motor.reboot()\n",
    "sleep(0.7)\n",
    "mirror_motor.register('A', 'x')\n",
    "sleep(0.005)\n",
    "mirror_motor.register('A', 'y')"
   ]
  },
  {
   "cell_type": "code",
   "execution_count": 51,
   "id": "bddd3d79-4345-43fa-bc5a-bcbe06a54df9",
   "metadata": {},
   "outputs": [
    {
     "data": {
      "text/plain": [
       "\"Log (most recent LAST) (length 50): ['f', b'\\\\x90', '1', '4', '4', 'e', '\\\\x01', '4', '0', '0', 'e', '\\\\x00', '4', '0', '0', 'e', '\\\\x00', '4', '0', '0', 'e', 'V', 'C', 'A', 'y', 'f', 'L', '7', '6', 'e', '\\\\x1d', '7', '5', '0', '0', 'e', '\\\\x00', '7', '5', '0', '0', 'e', '\\\\x00', '7', '5', '0', '0', 'e', 'V', 'S'].\""
      ]
     },
     "execution_count": 51,
     "metadata": {},
     "output_type": "execute_result"
    }
   ],
   "source": [
    "mirror_motor.get_log()"
   ]
  },
  {
   "cell_type": "code",
   "execution_count": 673,
   "id": "ff7ab874-fd26-4465-a368-e26c8942db0d",
   "metadata": {},
   "outputs": [],
   "source": [
    "x(1000)"
   ]
  },
  {
   "cell_type": "code",
   "execution_count": 56,
   "id": "8c6bb3c8-1a10-4089-95f6-c865d56b180e",
   "metadata": {},
   "outputs": [],
   "source": [
    "# move in a circle\n",
    "import numpy as np\n",
    "\n",
    "angs = np.linspace(0, 2*3.1415, num=25)\n",
    "rad = 3000 # radius of 3000 steps\n",
    "pts = (rad * np.cos(angs), rad * np.sin(angs))\n",
    "diffs = (np.diff(pts[0]), np.diff(pts[1]))"
   ]
  },
  {
   "cell_type": "code",
   "execution_count": 57,
   "id": "2c054d93-04a1-4ce8-83c3-7f64b3c67fe6",
   "metadata": {},
   "outputs": [],
   "source": [
    "for ind in range(len(diffs[0])):\n",
    "    dx, dy = diffs[0][ind], diffs[1][ind] # i know i could've set this up way better\n",
    "\n",
    "    approx_steps = int(max(abs(dx), abs(dy)))\n",
    "    x(int(dx))\n",
    "    y(int(dy))\n",
    "    sleep(approx_steps / steps_per_sec + 0.05) # allow steppers to finish their movements."
   ]
  },
  {
   "cell_type": "code",
   "execution_count": 8,
   "id": "cfbd4630-6101-4a98-a79f-f81b4836fb8e",
   "metadata": {},
   "outputs": [],
   "source": [
    "# different way to move in a circle\n",
    "\n",
    "rad = 3000 # radius of 3000 in steps\n",
    "circ = 2 * 3.1415 * rad\n",
    "tot_time = circ / steps_per_sec\n",
    "omega = 2 * 3.1415 / tot_time"
   ]
  },
  {
   "cell_type": "code",
   "execution_count": 9,
   "id": "aa9d23aa-7ef0-42c7-b185-eaf6d61532b3",
   "metadata": {},
   "outputs": [],
   "source": [
    "X = []\n",
    "Y = []"
   ]
  },
  {
   "cell_type": "code",
   "execution_count": 17,
   "id": "7a49febe-109c-43bb-a992-3250ba92a6fe",
   "metadata": {},
   "outputs": [],
   "source": [
    "theta = 0\n",
    "curX, curY = rad, 0\n",
    "\n",
    "start = monotonic()\n",
    "while theta < 2 * 3.1415:\n",
    "    theta = omega * (monotonic() - start)\n",
    "    newX, newY = int(rad * np.cos(theta)), int(rad * np.sin(theta))\n",
    "\n",
    "    if newX != curX:\n",
    "        x(newX - curX)\n",
    "        curX = newX\n",
    "\n",
    "    if newY != curY:\n",
    "        y(newY - curY)\n",
    "        curY = newY\n",
    "    \n",
    "    sleep(0.01) # hard to estimate timing for this method\n",
    "    X.append(curX)\n",
    "    Y.append(curY)"
   ]
  },
  {
   "cell_type": "code",
   "execution_count": 18,
   "id": "af78c4b3-10e2-4cf6-baa7-935282e82d33",
   "metadata": {},
   "outputs": [
    {
     "data": {
      "text/plain": [
       "[<matplotlib.lines.Line2D at 0x7ff3391284a0>]"
      ]
     },
     "execution_count": 18,
     "metadata": {},
     "output_type": "execute_result"
    },
    {
     "data": {
      "image/png": "[encoded data removed]",
      "text/plain": [
       "<Figure size 640x480 with 1 Axes>"
      ]
     },
     "metadata": {},
     "output_type": "display_data"
    }
   ],
   "source": [
    "plt.plot(X, Y, 'b.') # even though this one should be better its radius is weirdly reduced"
   ]
  }
 ],
 "metadata": {
  "kernelspec": {
   "display_name": "Python 3 (ipykernel)",
   "language": "python",
   "name": "python3"
  },
  "language_info": {
   "codemirror_mode": {
    "name": "ipython",
    "version": 3
   },
   "file_extension": ".py",
   "mimetype": "text/x-python",
   "name": "python",
   "nbconvert_exporter": "python",
   "pygments_lexer": "ipython3",
   "version": "3.12.3"
  }
 },
 "nbformat": 4,
 "nbformat_minor": 5
}
